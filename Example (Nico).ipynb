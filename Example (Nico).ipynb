{
 "cells": [
  {
   "cell_type": "code",
   "execution_count": null,
   "metadata": {},
   "outputs": [],
   "source": [
    "import pandas as pd\n",
    "import numpy as np\n",
    "import matplotlib.pyplot as plt\n",
    "import seaborn as sns\n",
    "from sklearn.metrics import accuracy_score\n",
    "from sklearn.mixture import GaussianMixture\n",
    "from app import ExponentialMixtureModel"
   ]
  },
  {
   "cell_type": "code",
   "execution_count": null,
   "metadata": {},
   "outputs": [],
   "source": [
    "# Helper functions\n",
    "def create_sample(lambdas: np.ndarray, true_weights: np.ndarray, size: int = 100, random_state: int = 42):\n",
    "    '''\n",
    "    Computa una mixtura de funciones exponenciales con dos componentes.\n",
    "\n",
    "    Args:\n",
    "    - lambdas: np.ndarray, tasas de las distribuciones exponenciales.\n",
    "    - true_weights: np.ndarray, pesos de las distribuciones exponenciales.\n",
    "    '''\n",
    "\n",
    "    np.random.seed(random_state)\n",
    "\n",
    "    X1 = np.random.exponential(scale=lambdas[0], size=size)\n",
    "    X2 = np.random.exponential(scale=lambdas[1], size=size) + 2\n",
    "\n",
    "    X = np.zeros(shape=100)\n",
    "    y_true = np.zeros(shape=100)\n",
    "    for i in np.arange(len(X1)):\n",
    "        z = np.random.choice([0, 1], p=true_weights)\n",
    "        if z == 0:\n",
    "            X[i] = X1[i]\n",
    "            y_true[i] = 0\n",
    "        else:\n",
    "            X[i] = X2[i]\n",
    "            y_true[i] = 1\n",
    "    \n",
    "    return X, y_true"
   ]
  },
  {
   "cell_type": "markdown",
   "metadata": {},
   "source": [
    "Generamos una distribución mixta que proviene de cuatro distribuciones exponenciales:"
   ]
  },
  {
   "cell_type": "code",
   "execution_count": null,
   "metadata": {},
   "outputs": [],
   "source": [
    "X1 = np.random.exponential(scale=1/10, size=100)\n",
    "X2 = np.random.exponential(scale=1/3, size=100) + 1\n",
    "\n",
    "X = np.zeros(shape=100)\n",
    "y_true = np.zeros(shape=100)\n",
    "for i in np.arange(len(X1)):\n",
    "    z = np.random.choice([0, 1], p=[0.3, 0.7])\n",
    "    if z == 0:\n",
    "        X[i] = X1[i]\n",
    "        y_true[i] = 0\n",
    "    else:\n",
    "        X[i] = X2[i]\n",
    "        y_true[i] = 1"
   ]
  },
  {
   "cell_type": "code",
   "execution_count": null,
   "metadata": {},
   "outputs": [],
   "source": [
    "fig, ax = plt.subplots(figsize=(10, 6))\n",
    "\n",
    "sns.kdeplot(X, color='black', ax=ax, label='X')\n",
    "sns.kdeplot(X1, color='#3D9CB5', fill=True, ax=ax, label='X1')\n",
    "sns.kdeplot(X2, color='#E98C90', fill=True, ax=ax, label='X2')\n",
    "ax.legend()"
   ]
  },
  {
   "cell_type": "code",
   "execution_count": null,
   "metadata": {},
   "outputs": [],
   "source": [
    "emm = ExponentialMixtureModel(k=2, max_iter=100)\n",
    "emm.fit(X.reshape(-1, 1))\n",
    "y_pred_emm = emm.predict(X.reshape(-1, 1))\n",
    "\n",
    "gmm = GaussianMixture(n_components=2, max_iter=100)\n",
    "gmm.fit(X.reshape(-1, 1))\n",
    "y_pred_gmm = gmm.predict(X.reshape(-1, 1))"
   ]
  },
  {
   "cell_type": "code",
   "execution_count": null,
   "metadata": {},
   "outputs": [],
   "source": [
    "print(accuracy_score(y_true, y_pred_emm))\n",
    "print(accuracy_score(y_true, y_pred_gmm))"
   ]
  },
  {
   "cell_type": "code",
   "execution_count": null,
   "metadata": {},
   "outputs": [],
   "source": [
    "accuracy_emm = []\n",
    "accuracy_gmm = []\n",
    "\n",
    "lambdas = np.array([1/10, 1/2])\n",
    "true_weights = np.array([0.3, 0.7])\n",
    "\n",
    "for i in np.arange(100):\n",
    "    # Generamos una muestra con dos distribuciones exponenciales\n",
    "    X, y_true = create_sample(lambdas, true_weights)\n",
    "\n",
    "    # Ajustamos un modelo de mixtura de exponenciales\n",
    "    emm = ExponentialMixtureModel(k=2, max_iter=100)\n",
    "    emm.fit(X.reshape(-1, 1), verbose=False)\n",
    "    y_pred_emm = emm.predict(X.reshape(-1, 1))\n",
    "\n",
    "    # Ajustamos un modelo de mixtura de Gaussianas\n",
    "    gmm = GaussianMixture(n_components=2, max_iter=100)\n",
    "    gmm.fit(X.reshape(-1, 1))\n",
    "    y_pred_gmm = gmm.predict(X.reshape(-1, 1))\n",
    "\n",
    "    # Calculamos el accuracy de ambos modelos\n",
    "    emm_acc = accuracy_score(y_true, y_pred_emm)\n",
    "    accuracy_emm.append(emm_acc)\n",
    "    gmm_acc = accuracy_score(y_true, y_pred_gmm)\n",
    "    accuracy_gmm.append(gmm_acc)\n",
    "\n",
    "accuracy_emm_mean = np.mean(accuracy_emm)\n",
    "accuracy_gmm_mean = np.mean(accuracy_gmm)\n",
    "\n",
    "print('Mean Accuracy EMM:', accuracy_emm_mean)\n",
    "print('Mean Accuracy GMM:', accuracy_gmm_mean)"
   ]
  }
 ],
 "metadata": {
  "kernelspec": {
   "display_name": "base",
   "language": "python",
   "name": "python3"
  },
  "language_info": {
   "codemirror_mode": {
    "name": "ipython",
    "version": 3
   },
   "file_extension": ".py",
   "mimetype": "text/x-python",
   "name": "python",
   "nbconvert_exporter": "python",
   "pygments_lexer": "ipython3",
   "version": "3.12.2"
  }
 },
 "nbformat": 4,
 "nbformat_minor": 2
}
