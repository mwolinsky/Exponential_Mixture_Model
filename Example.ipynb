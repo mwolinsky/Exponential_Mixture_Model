{
 "cells": [
  {
   "cell_type": "code",
   "execution_count": null,
   "metadata": {},
   "outputs": [],
   "source": [
    "import numpy as np\n",
    "from app import ExponentialMixtureModel\n",
    "import pandas as pd\n",
    "import numpy as np\n",
    "import matplotlib.pyplot as plt\n",
    "import seaborn as sns\n",
    "from sklearn.mixture import GaussianMixture\n",
    "from sklearn.metrics import accuracy_score"
   ]
  },
  {
   "cell_type": "markdown",
   "metadata": {},
   "source": [
    "# Ejemplo"
   ]
  },
  {
   "cell_type": "markdown",
   "metadata": {},
   "source": [
    "## Creacion de los datos"
   ]
  },
  {
   "cell_type": "code",
   "execution_count": null,
   "metadata": {},
   "outputs": [],
   "source": [
    "np.random.seed(0)\n",
    "X1 = np.random.exponential(scale=1/3, size=100)\n",
    "X2 = np.random.exponential(scale=1/5, size=100)\n",
    "X = np.concatenate([\n",
    "    np.random.exponential(scale=1/3, size=100),  \n",
    "    np.random.exponential(scale=1/5, size=100) \n",
    "])\n",
    "\n",
    "true_labels = np.concatenate([np.zeros(100), np.ones(100)])\n",
    "\n",
    "fig, ax = plt.subplots(figsize=(10, 6))\n",
    "\n",
    "sns.kdeplot(X, color='black', ax=ax, label='X')\n",
    "sns.kdeplot(X1, color='#3D9CB5', fill=True, ax=ax, label='X1')\n",
    "sns.kdeplot(X2, color='#E98C90', fill=True, ax=ax, label='X2')\n",
    "ax.legend()"
   ]
  },
  {
   "cell_type": "markdown",
   "metadata": {},
   "source": [
    "## Exponential Mixture Model"
   ]
  },
  {
   "cell_type": "code",
   "execution_count": null,
   "metadata": {},
   "outputs": [],
   "source": [
    "\n",
    "emm = ExponentialMixtureModel(k=2,max_iter=1000)\n",
    "emm.fit(X)\n",
    "\n",
    "clusters = emm.predict(X)\n"
   ]
  },
  {
   "cell_type": "markdown",
   "metadata": {},
   "source": [
    "## Gaussian Mixture Model"
   ]
  },
  {
   "cell_type": "code",
   "execution_count": null,
   "metadata": {},
   "outputs": [],
   "source": [
    "gmm = GaussianMixture(n_components=2, covariance_type='full', random_state=42)\n",
    "gmm.fit(X.reshape(-1,1))\n",
    "\n",
    "# Predecimos las etiquetas de los datos\n",
    "y_gmm = gmm.predict(X.reshape(-1,1))"
   ]
  },
  {
   "cell_type": "code",
   "execution_count": null,
   "metadata": {},
   "outputs": [],
   "source": [
    "print('Accuracy:', accuracy_score(true_labels, clusters))\n",
    "print('Accuracy:', accuracy_score(true_labels, y_gmm))"
   ]
  },
  {
   "cell_type": "markdown",
   "metadata": {},
   "source": [
    "# Testeo"
   ]
  },
  {
   "cell_type": "code",
   "execution_count": null,
   "metadata": {},
   "outputs": [],
   "source": [
    "# Configuración inicial\n",
    "np.random.seed(0)\n",
    "num_simulations = 100\n",
    "size_options = [50, 100, 200]   # Ejemplo de tamaños de muestra\n",
    "lambda_options = [(1/3, 1/5), (1/2, 1/4), (1/4, 1/6)]  # Diferentes combinaciones de lambdas\n",
    "results = []\n",
    "\n",
    "for size in size_options:\n",
    "    for lambdas in lambda_options:\n",
    "        accuracies_emm = []\n",
    "        accuracies_gmm = []\n",
    "        \n",
    "        for _ in range(num_simulations):\n",
    "            # Generar datos exponenciales con tamaños y lambdas variables\n",
    "            X = np.concatenate([\n",
    "                np.random.exponential(scale=lambdas[0], size=size),\n",
    "                np.random.exponential(scale=lambdas[1], size=size)\n",
    "            ])\n",
    "            true_labels = np.concatenate([np.zeros(size), np.ones(size)])\n",
    "            \n",
    "            # Modelo EMM\n",
    "            emm = ExponentialMixtureModel(k=2, max_iter=500)\n",
    "            emm.fit(X.reshape(-1, 1))\n",
    "            predicted_labels_emm = emm.predict(X.reshape(-1, 1))\n",
    "            accuracy_emm = accuracy_score(true_labels, predicted_labels_emm)\n",
    "            accuracies_emm.append(accuracy_emm)\n",
    "            \n",
    "            # Modelo GMM\n",
    "            gmm = GaussianMixture(n_components=2, max_iter=500, random_state=0)\n",
    "            gmm.fit(X.reshape(-1, 1))\n",
    "            predicted_labels_gmm = gmm.predict(X.reshape(-1, 1))\n",
    "            accuracy_gmm = accuracy_score(true_labels, predicted_labels_gmm)\n",
    "            accuracies_gmm.append(accuracy_gmm)\n",
    "        \n",
    "        # Guardar resultados promedio para esta configuración de tamaño y lambdas\n",
    "        avg_accuracy_emm = np.mean(accuracies_emm)\n",
    "        avg_accuracy_gmm = np.mean(accuracies_gmm)\n",
    "        results.append({\n",
    "            \"size\": size,\n",
    "            \"lambda_1\": lambdas[0],\n",
    "            \"lambda_2\": lambdas[1],\n",
    "            \"accuracy_emm\": avg_accuracy_emm,\n",
    "            \"accuracy_gmm\": avg_accuracy_gmm\n",
    "        })\n",
    "\n",
    "# Mostrar resultados\n",
    "\n"
   ]
  },
  {
   "cell_type": "code",
   "execution_count": null,
   "metadata": {},
   "outputs": [],
   "source": [
    "for result in results:\n",
    "    print(f\"Tamaño: {result['size']}, Lambda 1: {result['lambda_1']}, Lambda 2: {result['lambda_2']}\")\n",
    "    print(f\"  Accuracy promedio EMM: {result['accuracy_emm']:.4f}\")\n",
    "    print(f\"  Accuracy promedio GMM: {result['accuracy_gmm']:.4f}\")"
   ]
  }
 ],
 "metadata": {
  "kernelspec": {
   "display_name": "base",
   "language": "python",
   "name": "python3"
  },
  "language_info": {
   "codemirror_mode": {
    "name": "ipython",
    "version": 3
   },
   "file_extension": ".py",
   "mimetype": "text/x-python",
   "name": "python",
   "nbconvert_exporter": "python",
   "pygments_lexer": "ipython3",
   "version": "3.12.2"
  }
 },
 "nbformat": 4,
 "nbformat_minor": 2
}
